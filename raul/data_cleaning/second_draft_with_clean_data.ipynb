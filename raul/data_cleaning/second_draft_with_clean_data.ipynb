{
 "cells": [
  {
   "cell_type": "code",
   "execution_count": null,
   "metadata": {},
   "outputs": [],
   "source": [
    "import pandas as pd\n",
    "\n",
    "df = pd.read_pickle('./train_cleaned.pkl')\n",
    "df = df.drop(['ORIGIN_STAND'], axis=1)\n",
    "print(df.head())"
   ]
  },
  {
   "cell_type": "code",
   "execution_count": null,
   "metadata": {},
   "outputs": [],
   "source": [
    "'''\n",
    "Configure device for training with PyTorch\n",
    "'''\n",
    "\n",
    "import torch\n",
    "import torch.nn as nn\n",
    "import torchvision.transforms as transforms\n",
    "\n",
    "device = ('mps' if torch.backends.mps.is_available() else 'cpu')\n",
    "print(device)"
   ]
  },
  {
   "cell_type": "code",
   "execution_count": null,
   "metadata": {},
   "outputs": [],
   "source": [
    "# Load data for training and testing\n",
    "X = df[['TAXI_ID', 'TIMESTAMP', 'DAY_TYPE']]\n",
    "y = df[['travel_time']]\n",
    "print(X.shape)"
   ]
  },
  {
   "cell_type": "code",
   "execution_count": null,
   "metadata": {},
   "outputs": [],
   "source": [
    "from sklearn.model_selection import train_test_split\n",
    "import numpy as np\n",
    "\n",
    "# split the data into train and test portions\n",
    "X_train, X_test, y_train, y_test = train_test_split(np.array(X), np.array(y), train_size=0.7, shuffle=True)\n",
    "X_train = torch.tensor((X_train), dtype=torch.float32, device=device)\n",
    "y_train = torch.tensor((y_train), dtype=torch.float32, device=device)\n",
    "X_test = torch.tensor((X_test), dtype=torch.float32, device=device)\n",
    "y_test = torch.tensor((y_test), dtype=torch.float32, device=device)\n",
    "\n",
    "print(X_train.shape)"
   ]
  },
  {
   "cell_type": "code",
   "execution_count": null,
   "metadata": {},
   "outputs": [],
   "source": [
    "model = nn.Sequential(\n",
    "    nn.Linear(3, 84),\n",
    "    nn.ReLU(),\n",
    "    nn.Linear(84, 32),\n",
    "    nn.ReLU(),\n",
    "    nn.Linear(32, 20),\n",
    "    nn.ReLU(),\n",
    "    nn.Linear(20, 8),\n",
    "    nn.ReLU(),\n",
    "    nn.Linear(8, 1)\n",
    ")\n",
    "\n",
    "model.to(device)\n",
    "num_param = sum(p.numel() for p in model.parameters())\n",
    "print(\"Number of parameters: \" + str(num_param))"
   ]
  },
  {
   "cell_type": "code",
   "execution_count": null,
   "metadata": {},
   "outputs": [],
   "source": [
    "loss_fn = nn.MSELoss()\n",
    "learning_rate = 1e-3\n",
    "optimizer = torch.optim.SGD(model.parameters(), lr=learning_rate, momentum=0.9)"
   ]
  },
  {
   "cell_type": "code",
   "execution_count": null,
   "metadata": {},
   "outputs": [],
   "source": [
    "def test(X_test, y_test, model, criterion):\n",
    "    test_loss = 0.0\n",
    "    with torch.no_grad():\n",
    "        for data, labels in zip(X_test, y_test):\n",
    "            data, labels = data.to(device), labels.to(device)\n",
    "\n",
    "            y_pred = model(data)\n",
    "            \n",
    "            loss = criterion(labels, y_pred)\n",
    "            test_loss += loss\n",
    "    return test_loss.cpu().detach().numpy() / len(X_test)"
   ]
  },
  {
   "cell_type": "code",
   "execution_count": null,
   "metadata": {},
   "outputs": [],
   "source": [
    "from tqdm import tqdm\n",
    "\n",
    "# hyperparameters\n",
    "num_epoch = 10\n",
    "\n",
    "losses = []\n",
    "\n",
    "for epoch in tqdm(range(num_epoch)):\n",
    "    running_loss = 0.0\n",
    "\n",
    "    for data, labels in zip(X_train, y_train):\n",
    "        data, labels = data.to(device), labels.to(device)\n",
    "\n",
    "        optimizer.zero_grad()\n",
    "\n",
    "        y_pred = model(data)\n",
    "\n",
    "        loss = loss_fn(labels, y_pred)\n",
    "        loss.backward()\n",
    "        optimizer.step()\n",
    "\n",
    "        running_loss += loss.cpu().detach().numpy()\n",
    "\n",
    "    losses.append(running_loss / len(X_train))\n",
    "\n",
    "print(\"Finished Training\")\n",
    "\n",
    "print(\"Testing\")\n",
    "test_loss = test(X_test, y_test, model, loss_fn)\n",
    "print(f'\\n\\ntest loss: {test_loss}')"
   ]
  }
 ],
 "metadata": {
  "kernelspec": {
   "display_name": "cse151b",
   "language": "python",
   "name": "python3"
  },
  "language_info": {
   "codemirror_mode": {
    "name": "ipython",
    "version": 3
   },
   "file_extension": ".py",
   "mimetype": "text/x-python",
   "name": "python",
   "nbconvert_exporter": "python",
   "pygments_lexer": "ipython3",
   "version": "3.9.16"
  },
  "orig_nbformat": 4
 },
 "nbformat": 4,
 "nbformat_minor": 2
}
