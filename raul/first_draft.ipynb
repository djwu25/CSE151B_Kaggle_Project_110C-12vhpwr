{
 "cells": [
  {
   "cell_type": "code",
   "execution_count": 1,
   "metadata": {},
   "outputs": [],
   "source": [
    "import pandas as pd\n",
    "import numpy as np"
   ]
  },
  {
   "cell_type": "code",
   "execution_count": 2,
   "metadata": {},
   "outputs": [
    {
     "name": "stdout",
     "output_type": "stream",
     "text": [
      "<bound method NDFrame.head of                      TRIP_ID CALL_TYPE  ORIGIN_CALL  ORIGIN_STAND   TAXI_ID  \\\n",
      "0        1372636858620000589         C          NaN           NaN  20000589   \n",
      "1        1372637303620000596         B          NaN           7.0  20000596   \n",
      "2        1372636951620000320         C          NaN           NaN  20000320   \n",
      "3        1372636854620000520         C          NaN           NaN  20000520   \n",
      "4        1372637091620000337         C          NaN           NaN  20000337   \n",
      "...                      ...       ...          ...           ...       ...   \n",
      "1710665  1404171463620000698         C          NaN           NaN  20000698   \n",
      "1710666  1404171367620000670         C          NaN           NaN  20000670   \n",
      "1710667  1388745716620000264         C          NaN           NaN  20000264   \n",
      "1710668  1404141826620000248         B          NaN          12.0  20000248   \n",
      "1710669  1404157147620000079         B          NaN          34.0  20000079   \n",
      "\n",
      "          TIMESTAMP DAY_TYPE  MISSING_DATA  \\\n",
      "0        1372636858        A         False   \n",
      "1        1372637303        A         False   \n",
      "2        1372636951        A         False   \n",
      "3        1372636854        A         False   \n",
      "4        1372637091        A         False   \n",
      "...             ...      ...           ...   \n",
      "1710665  1404171463        A         False   \n",
      "1710666  1404171367        A         False   \n",
      "1710667  1388745716        A         False   \n",
      "1710668  1404141826        A         False   \n",
      "1710669  1404157147        A         False   \n",
      "\n",
      "                                                  POLYLINE  \n",
      "0        [[-8.618643,41.141412],[-8.618499,41.141376],[...  \n",
      "1        [[-8.639847,41.159826],[-8.640351,41.159871],[...  \n",
      "2        [[-8.612964,41.140359],[-8.613378,41.14035],[-...  \n",
      "3        [[-8.574678,41.151951],[-8.574705,41.151942],[...  \n",
      "4        [[-8.645994,41.18049],[-8.645949,41.180517],[-...  \n",
      "...                                                    ...  \n",
      "1710665  [[-8.612469,41.14602],[-8.612487,41.145993],[-...  \n",
      "1710666  [[-8.610138,41.140845],[-8.610174,41.140935],[...  \n",
      "1710667                                                 []  \n",
      "1710668  [[-8.630712,41.154885],[-8.63073,41.154813],[-...  \n",
      "1710669  [[-8.615538,41.140629],[-8.615421,41.140746],[...  \n",
      "\n",
      "[1710670 rows x 9 columns]>\n"
     ]
    }
   ],
   "source": [
    "df = pd.read_csv(\"./cse151b_data/train.csv\")\n",
    "print(df.head)"
   ]
  },
  {
   "cell_type": "code",
   "execution_count": 3,
   "metadata": {},
   "outputs": [
    {
     "name": "stdout",
     "output_type": "stream",
     "text": [
      "425\n",
      "364770\n"
     ]
    }
   ],
   "source": [
    "type_a = df[df['CALL_TYPE'] == 'A']\n",
    "print(len(type_a[type_a['POLYLINE'] == '[]']))\n",
    "print(len(type_a))"
   ]
  },
  {
   "cell_type": "code",
   "execution_count": 4,
   "metadata": {},
   "outputs": [
    {
     "name": "stdout",
     "output_type": "stream",
     "text": [
      "TRIP_ID           int64\n",
      "CALL_TYPE        object\n",
      "ORIGIN_CALL     float64\n",
      "ORIGIN_STAND    float64\n",
      "TAXI_ID           int64\n",
      "TIMESTAMP         int64\n",
      "DAY_TYPE         object\n",
      "MISSING_DATA       bool\n",
      "POLYLINE         object\n",
      "dtype: object\n"
     ]
    }
   ],
   "source": [
    "print(df.dtypes)"
   ]
  },
  {
   "cell_type": "code",
   "execution_count": 5,
   "metadata": {},
   "outputs": [
    {
     "name": "stdout",
     "output_type": "stream",
     "text": [
      "(1710660, 9)\n",
      "5901\n",
      "5901\n"
     ]
    }
   ],
   "source": [
    "# drop any obsevations with missing values\n",
    "df = df[df['MISSING_DATA'] == False]\n",
    "print(df.shape)\n",
    "no_polyline = df[df['POLYLINE'] == '[]']\n",
    "print(len(no_polyline))\n",
    "print(len(no_polyline[no_polyline['DAY_TYPE'] == 'A']))"
   ]
  },
  {
   "cell_type": "code",
   "execution_count": 6,
   "metadata": {},
   "outputs": [
    {
     "name": "stdout",
     "output_type": "stream",
     "text": [
      "-8.618643,41.141412],[-8.618499,41.141376],[-8.620326,41.14251],[-8.622153,41.143815],[-8.623953,41.144373],[-8.62668,41.144778],[-8.627373,41.144697],[-8.630226,41.14521],[-8.632746,41.14692],[-8.631738,41.148225],[-8.629938,41.150385],[-8.62911,41.151213],[-8.629128,41.15124],[-8.628786,41.152203],[-8.628687,41.152374],[-8.628759,41.152518],[-8.630838,41.15268],[-8.632323,41.153022],[-8.631144,41.154489],[-8.630829,41.154507],[-8.630829,41.154516],[-8.630829,41.154498],[-8.630838,41.154489\n",
      "[[-8.618643,41.141412],[-8.618499,41.141376],[-8.620326,41.14251],[-8.622153,41.143815],[-8.623953,41.144373],[-8.62668,41.144778],[-8.627373,41.144697],[-8.630226,41.14521],[-8.632746,41.14692],[-8.631738,41.148225],[-8.629938,41.150385],[-8.62911,41.151213],[-8.629128,41.15124],[-8.628786,41.152203],[-8.628687,41.152374],[-8.628759,41.152518],[-8.630838,41.15268],[-8.632323,41.153022],[-8.631144,41.154489],[-8.630829,41.154507],[-8.630829,41.154516],[-8.630829,41.154498],[-8.630838,41.154489]]\n",
      "[-8.618643,41.141412],[-8.618499,41.141376],[-8.620326,41.14251],[-8.622153,41.143815],[-8.623953,41.144373],[-8.62668,41.144778],[-8.627373,41.144697],[-8.630226,41.14521],[-8.632746,41.14692],[-8.631738,41.148225],[-8.629938,41.150385],[-8.62911,41.151213],[-8.629128,41.15124],[-8.628786,41.152203],[-8.628687,41.152374],[-8.628759,41.152518],[-8.630838,41.15268],[-8.632323,41.153022],[-8.631144,41.154489],[-8.630829,41.154507],[-8.630829,41.154516],[-8.630829,41.154498],[-8.630838,41.154489]\n",
      "True\n"
     ]
    }
   ],
   "source": [
    "test_row = df['POLYLINE'][0].strip(\"[]\")\n",
    "print(test_row)\n",
    "test_row = \"[\" + test_row + \"]\"\n",
    "print(df['POLYLINE'][0])\n",
    "print(test_row)\n",
    "for i in range(len(test_row) - 1):\n",
    "    if test_row[i-1] == ']' and test_row[i] == ',' and test_row[i+1] == '[':\n",
    "        test_row = test_row[:i] + '#' + test_row [i + 1:]\n",
    "\n",
    "test_row = test_row.split(\"#\")\n",
    "\n",
    "characters = ['[', ']']\n",
    "longitude = []\n",
    "latitude = []\n",
    "for i in range(len(test_row)):\n",
    "    temp = test_row[i]\n",
    "    for j in range(len(characters)):\n",
    "        temp = temp.replace(characters[j], '')\n",
    "        temp_list = temp.split(',')\n",
    "    longitude.append(temp_list[0])\n",
    "    latitude.append(temp_list[1])\n",
    "\n",
    "print(len(longitude) == len(latitude))"
   ]
  },
  {
   "cell_type": "code",
   "execution_count": 7,
   "metadata": {},
   "outputs": [],
   "source": [
    "def separate_polyline(coordinates):\n",
    "    if coordinates == '[]':\n",
    "        return [], []\n",
    "    test_row = coordinates.strip(\"[]\")\n",
    "    test_row = \"[\" + test_row + \"]\"\n",
    "\n",
    "    for i in range(len(test_row) - 1):\n",
    "        if test_row[i-1] == ']' and test_row[i] == ',' and test_row[i+1] == '[':\n",
    "            test_row = test_row[:i] + '#' + test_row [i + 1:]\n",
    "\n",
    "    test_row = test_row.split(\"#\")\n",
    "\n",
    "    longitude = []\n",
    "    latitude = []\n",
    "    for i in range(len(test_row)):\n",
    "        temp = test_row[i]\n",
    "        temp.strip('[]')\n",
    "        \n",
    "        temp_list = temp.split(',')\n",
    "\n",
    "        longitude.append(float(temp_list[0]))\n",
    "        latitude.append(float(temp_list[1]))\n",
    "        \n",
    "    return longitude, latitude"
   ]
  },
  {
   "cell_type": "code",
   "execution_count": 8,
   "metadata": {},
   "outputs": [
    {
     "name": "stdout",
     "output_type": "stream",
     "text": [
      "Index(['TRIP_ID', 'CALL_TYPE', 'ORIGIN_CALL', 'ORIGIN_STAND', 'TAXI_ID',\n",
      "       'TIMESTAMP', 'DAY_TYPE', 'MISSING_DATA', 'POLYLINE', 'longitude',\n",
      "       'latitude'],\n",
      "      dtype='object')\n"
     ]
    }
   ],
   "source": [
    "df['longitude'], df['latitude'] = zip(*df['POLYLINE'].apply(separate_polyline))\n",
    "print(df.columns)"
   ]
  },
  {
   "cell_type": "code",
   "execution_count": 9,
   "metadata": {},
   "outputs": [
    {
     "name": "stdout",
     "output_type": "stream",
     "text": [
      "Index(['TRIP_ID', 'CALL_TYPE', 'ORIGIN_CALL', 'ORIGIN_STAND', 'TAXI_ID',\n",
      "       'TIMESTAMP', 'DAY_TYPE', 'MISSING_DATA', 'longitude', 'latitude'],\n",
      "      dtype='object')\n"
     ]
    }
   ],
   "source": [
    "df = df.drop(['POLYLINE'], axis=1)\n",
    "print(df.columns)"
   ]
  },
  {
   "cell_type": "code",
   "execution_count": 10,
   "metadata": {},
   "outputs": [
    {
     "name": "stdout",
     "output_type": "stream",
     "text": [
      "TRIP_ID           int64\n",
      "CALL_TYPE        object\n",
      "ORIGIN_CALL     float64\n",
      "ORIGIN_STAND    float64\n",
      "TAXI_ID           int64\n",
      "TIMESTAMP         int64\n",
      "DAY_TYPE         object\n",
      "MISSING_DATA       bool\n",
      "longitude        object\n",
      "latitude         object\n",
      "dtype: object\n",
      "0\n",
      "Index(['TRIP_ID', 'CALL_TYPE', 'ORIGIN_CALL', 'ORIGIN_STAND', 'TAXI_ID',\n",
      "       'TIMESTAMP', 'DAY_TYPE', 'longitude', 'latitude'],\n",
      "      dtype='object')\n"
     ]
    }
   ],
   "source": [
    "print(df.dtypes)\n",
    "print(len(df[df['MISSING_DATA'] == True]))\n",
    "\n",
    "df = df.drop(['MISSING_DATA'], axis=1)\n",
    "print(df.columns)"
   ]
  },
  {
   "cell_type": "code",
   "execution_count": 11,
   "metadata": {},
   "outputs": [],
   "source": [
    "# Calculates travel time in seconds\n",
    "def calculate_travel_time(coordinates):\n",
    "    total = 0\n",
    "    checks = len(coordinates) - 1\n",
    "    return total + (checks * 15)"
   ]
  },
  {
   "cell_type": "code",
   "execution_count": 12,
   "metadata": {},
   "outputs": [
    {
     "name": "stdout",
     "output_type": "stream",
     "text": [
      "ORIGIN_STAND    float64\n",
      "TAXI_ID           int64\n",
      "TIMESTAMP         int64\n",
      "DAY_TYPE         object\n",
      "travel_time       int64\n",
      "dtype: object\n"
     ]
    }
   ],
   "source": [
    "df['travel_time'] = df['longitude'].apply(calculate_travel_time)\n",
    "df = df.drop(['longitude', 'latitude', 'CALL_TYPE', 'TRIP_ID', 'ORIGIN_CALL'], axis=1)\n",
    "print(df.dtypes)"
   ]
  },
  {
   "cell_type": "code",
   "execution_count": 13,
   "metadata": {},
   "outputs": [],
   "source": [
    "def convert_day_type(day):\n",
    "    if day == 'A':\n",
    "        return 1\n",
    "    elif day == 'B':\n",
    "        return 2\n",
    "    else:\n",
    "        return 3"
   ]
  },
  {
   "cell_type": "code",
   "execution_count": 14,
   "metadata": {},
   "outputs": [
    {
     "data": {
      "text/plain": [
       "0    1\n",
       "1    1\n",
       "2    1\n",
       "3    1\n",
       "4    1\n",
       "Name: DAY_TYPE, dtype: int64"
      ]
     },
     "execution_count": 14,
     "metadata": {},
     "output_type": "execute_result"
    }
   ],
   "source": [
    "df['DAY_TYPE'] = df['DAY_TYPE'].apply(convert_day_type)\n",
    "df['DAY_TYPE'].head()"
   ]
  },
  {
   "cell_type": "code",
   "execution_count": 15,
   "metadata": {},
   "outputs": [],
   "source": [
    "# use df.to_pickle() in order to refer to df much faster\n",
    "\n",
    "df.to_pickle(\"train_cleaned.pkl\")"
   ]
  },
  {
   "cell_type": "code",
   "execution_count": null,
   "metadata": {},
   "outputs": [],
   "source": []
  }
 ],
 "metadata": {
  "kernelspec": {
   "display_name": "cse151b",
   "language": "python",
   "name": "python3"
  },
  "language_info": {
   "codemirror_mode": {
    "name": "ipython",
    "version": 3
   },
   "file_extension": ".py",
   "mimetype": "text/x-python",
   "name": "python",
   "nbconvert_exporter": "python",
   "pygments_lexer": "ipython3",
   "version": "3.9.16"
  },
  "orig_nbformat": 4
 },
 "nbformat": 4,
 "nbformat_minor": 2
}
